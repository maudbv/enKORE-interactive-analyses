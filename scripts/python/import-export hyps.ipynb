{
 "cells": [
  {
   "cell_type": "markdown",
   "metadata": {},
   "source": [
    "# Import all ORKG comparisons in invasion biology and export them as csv"
   ]
  },
  {
   "cell_type": "code",
   "execution_count": 6,
   "metadata": {},
   "outputs": [],
   "source": [
    "def p2csv_comparisons(comp_ids):\n",
    "    # import ORKG comparisons and export them as individual csv files\n",
    "\n",
    "    import pandas as pd\n",
    "    from orkg import ORKG\n",
    "\n",
    "    orkg = ORKG(host='https://orkg.org/orkg', simcomp_host='https://orkg.org/orkg/simcomp')\n",
    "\n",
    "    for i in range(len(comp_ids)):\n",
    "        df = orkg.contributions.compare_dataframe(comparison_id= comp_ids[i])\n",
    "        df = df.T\n",
    "        df.comp_id = comp_ids[i]\n",
    "\n",
    "        #correction of all comparison column names\n",
    "        df=df.rename(columns={'stand of hypothesis':'support for hypothesis'})\n",
    "\n",
    "        # prepocessing\n",
    "        df['study'] = df.index\n",
    "\n",
    "        # reset row indexing as numbers\n",
    "        df = df.reset_index()\n",
    "        \n",
    "        # Split study name into publication and contribution, and add publication as new column\n",
    "        df['publication'] = df['study'].str.split('/', expand = True)[0]\n",
    "\n",
    "        # extract name of hypothesis\n",
    "        hyp = pd.unique(df.hypothesis)[0]\n",
    "\n",
    "        # export table as .csv\n",
    "        print('exporting comparison for ' + hyp + ' hypothesis')\n",
    "        df.to_csv(\"csv/comparison_\" + comp_ids[i]+ \"_\" + hyp + \".csv\",\n",
    "        index = False, header= True)"
   ]
  },
  {
   "cell_type": "code",
   "execution_count": 7,
   "metadata": {},
   "outputs": [
    {
     "name": "stdout",
     "output_type": "stream",
     "text": [
      "exporting comparison for Darwin's naturalisation hypothesis\n",
      "exporting comparison for Enemy release hypothesis\n"
     ]
    }
   ],
   "source": [
    "p2csv_comparisons(['R53407','R58002'])"
   ]
  }
 ],
 "metadata": {
  "kernelspec": {
   "display_name": "Python 3.10.6 64-bit",
   "language": "python",
   "name": "python3"
  },
  "language_info": {
   "codemirror_mode": {
    "name": "ipython",
    "version": 3
   },
   "file_extension": ".py",
   "mimetype": "text/x-python",
   "name": "python",
   "nbconvert_exporter": "python",
   "pygments_lexer": "ipython3",
   "version": "3.10.6"
  },
  "orig_nbformat": 4,
  "vscode": {
   "interpreter": {
    "hash": "aee8b7b246df8f9039afb4144a1f6fd8d2ca17a180786b69acc140d282b71a49"
   }
  }
 },
 "nbformat": 4,
 "nbformat_minor": 2
}
